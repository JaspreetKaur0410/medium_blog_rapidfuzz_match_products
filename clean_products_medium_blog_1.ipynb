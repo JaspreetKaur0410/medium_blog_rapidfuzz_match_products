{
 "cells": [
  {
   "cell_type": "code",
   "execution_count": null,
   "id": "de652ac9",
   "metadata": {},
   "outputs": [],
   "source": [
    "import pandas as pd\n",
    "import numpy as np\n",
    "from rapidfuzz import process, utils, fuzz"
   ]
  },
  {
   "cell_type": "code",
   "execution_count": null,
   "id": "3f764ff6",
   "metadata": {},
   "outputs": [],
   "source": [
    "data=pd.read_csv('C:/wamp/tmp/CSVS_2/recommendations_master_sheet_1 - Copy.csv')\n",
    "df=pd.DataFrame(data)\n",
    "required_cols=['id','age','location','gender','reason','source_type','skin_type','product_type','product_name']\n",
    "#df[required_cols].tail(10)"
   ]
  },
  {
   "cell_type": "code",
   "execution_count": null,
   "id": "5d2832b2",
   "metadata": {},
   "outputs": [],
   "source": [
    "sorted_df = df.sort_values(by=\"product_name\")\n",
    "sorted_df.fillna('', inplace=True)"
   ]
  },
  {
   "cell_type": "code",
   "execution_count": null,
   "id": "7b86d0c6",
   "metadata": {},
   "outputs": [],
   "source": [
    "sorted_df_list = sorted_df.values.tolist()\n",
    "sorted_df = sorted_df.reset_index(drop=True)\n",
    "unique_product_names = sorted_df['product_name'].unique().tolist()\n",
    "#unique_product_names"
   ]
  },
  {
   "cell_type": "code",
   "execution_count": null,
   "id": "3d1726fa",
   "metadata": {},
   "outputs": [],
   "source": [
    "all_sorted_df_list = sorted_df['product_name'].tolist()\n",
    "all_sorted_df_list"
   ]
  },
  {
   "cell_type": "code",
   "execution_count": null,
   "id": "4a00185d",
   "metadata": {},
   "outputs": [],
   "source": [
    "processed_products = [utils.default_process(product) for product in all_sorted_df_list]\n",
    "processed_products"
   ]
  },
  {
   "cell_type": "code",
   "execution_count": null,
   "id": "d7631020",
   "metadata": {},
   "outputs": [],
   "source": [
    "from rapidfuzz.process import cdist\n",
    "\n",
    "def find_matched_product():\n",
    "    # Calculate distance between all the names\n",
    "    sa = cdist(processed_products, processed_products,score_cutoff=80, workers=-1)\n",
    "    matches_list = []\n",
    "    for distances in sa:\n",
    "        indices = np.argwhere(~np.isin(distances, [100, 0])).flatten()\n",
    "        names = list(map(processed_products.__getitem__, indices))\n",
    "        matches_list.append(names)\n",
    "    dfff = pd.DataFrame({'second_df_names_of_product': processed_products, 'matches': matches_list})\n",
    "    dfff['matches_count'] = dfff.matches.str.len()\n",
    "    return dfff"
   ]
  },
  {
   "cell_type": "code",
   "execution_count": null,
   "id": "5830f183",
   "metadata": {},
   "outputs": [],
   "source": [
    "dfff=find_matched_product()"
   ]
  },
  {
   "cell_type": "code",
   "execution_count": null,
   "id": "c11ee343",
   "metadata": {},
   "outputs": [],
   "source": [
    "df_merge = pd.concat([sorted_df,dfff], axis=1)"
   ]
  },
  {
   "cell_type": "code",
   "execution_count": null,
   "id": "b29edef0",
   "metadata": {},
   "outputs": [],
   "source": [
    "#df_merge.head(70)"
   ]
  },
  {
   "cell_type": "code",
   "execution_count": null,
   "id": "748fb7e3",
   "metadata": {},
   "outputs": [],
   "source": [
    "best_matches=[]\n",
    "for ind in df_merge.index:\n",
    "    matches_for_product_list=df_merge['matches'][ind]\n",
    "    if len(matches_for_product_list)==0:\n",
    "        best_matches.append(df_merge['second_df_names_of_product'][ind])\n",
    "    else:\n",
    "        max_len_match = get_max_length_match(matches_for_product_list)\n",
    "        best_matches.append(max_len_match)\n",
    "df_merge['best_match']=best_matches"
   ]
  },
  {
   "cell_type": "code",
   "execution_count": null,
   "id": "6ff29750",
   "metadata": {},
   "outputs": [],
   "source": [
    "def get_max_length_match(match):\n",
    "    max_len=0\n",
    "    max_len_item=\"\"\n",
    "    for item in match:\n",
    "        if(len(item)>max_len):\n",
    "            max_len=len(item)\n",
    "            max_len_item=item\n",
    "    return max_len_item"
   ]
  },
  {
   "cell_type": "code",
   "execution_count": null,
   "id": "d3e879a6",
   "metadata": {},
   "outputs": [],
   "source": [
    "df_merge.head(80)"
   ]
  },
  {
   "cell_type": "code",
   "execution_count": null,
   "id": "587e1a40",
   "metadata": {},
   "outputs": [],
   "source": []
  },
  {
   "cell_type": "code",
   "execution_count": null,
   "id": "2e4102ec",
   "metadata": {},
   "outputs": [],
   "source": []
  },
  {
   "cell_type": "code",
   "execution_count": null,
   "id": "05b61e25",
   "metadata": {},
   "outputs": [],
   "source": []
  },
  {
   "cell_type": "code",
   "execution_count": null,
   "id": "b988c248",
   "metadata": {},
   "outputs": [],
   "source": []
  },
  {
   "cell_type": "code",
   "execution_count": null,
   "id": "4b2222f3",
   "metadata": {},
   "outputs": [],
   "source": []
  },
  {
   "cell_type": "code",
   "execution_count": null,
   "id": "804df0a3",
   "metadata": {},
   "outputs": [],
   "source": []
  },
  {
   "cell_type": "code",
   "execution_count": null,
   "id": "9703aba6",
   "metadata": {},
   "outputs": [],
   "source": []
  },
  {
   "cell_type": "code",
   "execution_count": null,
   "id": "d9b5f05a",
   "metadata": {},
   "outputs": [],
   "source": []
  },
  {
   "cell_type": "code",
   "execution_count": null,
   "id": "5240c5df",
   "metadata": {},
   "outputs": [],
   "source": []
  },
  {
   "cell_type": "code",
   "execution_count": null,
   "id": "6b655ba8",
   "metadata": {},
   "outputs": [],
   "source": []
  },
  {
   "cell_type": "code",
   "execution_count": null,
   "id": "14422282",
   "metadata": {},
   "outputs": [],
   "source": []
  },
  {
   "cell_type": "code",
   "execution_count": null,
   "id": "a8b2ac97",
   "metadata": {},
   "outputs": [],
   "source": []
  },
  {
   "cell_type": "code",
   "execution_count": null,
   "id": "769f904e",
   "metadata": {},
   "outputs": [],
   "source": []
  },
  {
   "cell_type": "code",
   "execution_count": null,
   "id": "4e7bf8d6",
   "metadata": {},
   "outputs": [],
   "source": []
  },
  {
   "cell_type": "code",
   "execution_count": null,
   "id": "139c0717",
   "metadata": {},
   "outputs": [],
   "source": []
  },
  {
   "cell_type": "code",
   "execution_count": null,
   "id": "42ab3cdd",
   "metadata": {},
   "outputs": [],
   "source": []
  },
  {
   "cell_type": "code",
   "execution_count": null,
   "id": "880e232c",
   "metadata": {},
   "outputs": [],
   "source": []
  },
  {
   "cell_type": "code",
   "execution_count": null,
   "id": "e7361387",
   "metadata": {},
   "outputs": [],
   "source": []
  },
  {
   "cell_type": "code",
   "execution_count": null,
   "id": "f294248f",
   "metadata": {},
   "outputs": [],
   "source": []
  },
  {
   "cell_type": "code",
   "execution_count": null,
   "id": "937271eb",
   "metadata": {},
   "outputs": [],
   "source": []
  },
  {
   "cell_type": "code",
   "execution_count": null,
   "id": "bb64625d",
   "metadata": {},
   "outputs": [],
   "source": []
  },
  {
   "cell_type": "code",
   "execution_count": null,
   "id": "6c4efce2",
   "metadata": {},
   "outputs": [],
   "source": []
  },
  {
   "cell_type": "code",
   "execution_count": null,
   "id": "65c351b8",
   "metadata": {},
   "outputs": [],
   "source": []
  },
  {
   "cell_type": "code",
   "execution_count": null,
   "id": "1de4da86",
   "metadata": {},
   "outputs": [],
   "source": []
  },
  {
   "cell_type": "code",
   "execution_count": null,
   "id": "217eb6bb",
   "metadata": {},
   "outputs": [],
   "source": []
  },
  {
   "cell_type": "code",
   "execution_count": null,
   "id": "784a27c5",
   "metadata": {},
   "outputs": [],
   "source": []
  },
  {
   "cell_type": "code",
   "execution_count": null,
   "id": "54e81436",
   "metadata": {},
   "outputs": [],
   "source": []
  },
  {
   "cell_type": "code",
   "execution_count": null,
   "id": "a2e3bfb5",
   "metadata": {},
   "outputs": [],
   "source": []
  },
  {
   "cell_type": "code",
   "execution_count": null,
   "id": "b39b6ad9",
   "metadata": {},
   "outputs": [],
   "source": []
  },
  {
   "cell_type": "code",
   "execution_count": null,
   "id": "0896cf8a",
   "metadata": {},
   "outputs": [],
   "source": []
  },
  {
   "cell_type": "code",
   "execution_count": null,
   "id": "6e0fd984",
   "metadata": {},
   "outputs": [],
   "source": []
  },
  {
   "cell_type": "code",
   "execution_count": null,
   "id": "aa2fe20a",
   "metadata": {},
   "outputs": [],
   "source": []
  },
  {
   "cell_type": "code",
   "execution_count": null,
   "id": "37a054b5",
   "metadata": {},
   "outputs": [],
   "source": []
  },
  {
   "cell_type": "code",
   "execution_count": null,
   "id": "22d7aeab",
   "metadata": {},
   "outputs": [],
   "source": []
  },
  {
   "cell_type": "code",
   "execution_count": null,
   "id": "961bd6c4",
   "metadata": {},
   "outputs": [],
   "source": []
  },
  {
   "cell_type": "code",
   "execution_count": null,
   "id": "b778db0b",
   "metadata": {},
   "outputs": [],
   "source": []
  },
  {
   "cell_type": "code",
   "execution_count": null,
   "id": "62d812ef",
   "metadata": {},
   "outputs": [],
   "source": []
  },
  {
   "cell_type": "code",
   "execution_count": null,
   "id": "2fb2d4d7",
   "metadata": {},
   "outputs": [],
   "source": []
  }
 ],
 "metadata": {
  "kernelspec": {
   "display_name": "Python 3 (ipykernel)",
   "language": "python",
   "name": "python3"
  },
  "language_info": {
   "codemirror_mode": {
    "name": "ipython",
    "version": 3
   },
   "file_extension": ".py",
   "mimetype": "text/x-python",
   "name": "python",
   "nbconvert_exporter": "python",
   "pygments_lexer": "ipython3",
   "version": "3.11.4"
  }
 },
 "nbformat": 4,
 "nbformat_minor": 5
}
